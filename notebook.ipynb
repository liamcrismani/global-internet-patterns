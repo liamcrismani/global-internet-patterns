{
 "cells": [
  {
   "cell_type": "markdown",
   "id": "17d5eb28-8577-401b-a28d-00e9858b4bb4",
   "metadata": {},
   "source": [
    "# Analyzing global internet patterns\n",
    "\n",
    "## 📖 Background\n",
    "In this competition, you'll be exploring a dataset that highlights internet usage for different countries from 2000 to 2023. Your goal is import, clean, analyze and visualize the data in your preferred tool.\n",
    "\n",
    "The end goal will be a clean, self explanatory, and interactive visualization. By conducting a thorough analysis, you'll dive deeper into how internet usage has changed over time and the countries still widely impacted by lack of internet availability. \n",
    "\n",
    "\n",
    "## 💾 Data\n",
    "\n",
    "#### You have access to the following file, but you can supplement your data with other sources to enrich your analysis. \n",
    "\n",
    "### Interet Usage (`internet_usage.csv`)\n",
    "|   Column name  |   Description | \n",
    "|---------------|-----------|\n",
    "| Country Name | Name of the country |\n",
    "| Country Code | Countries 3 character country code|\n",
    "| 2000 | Contains the % of population of individuals using the internet in 2000  |\n",
    "| 2001 | Contains the % of population of individuals using the internet in 2001  |\n",
    "| 2002 | Contains the % of population of individuals using the internet in 2002  |\n",
    "| 2003 | Contains the % of population of individuals using the internet in 2003  |\n",
    "| .... | ...  |\n",
    "| 2023 | Contains the % of population of individuals using the internet in 2023  |\n",
    "\n",
    "**The data can be downloaded from the _Files_ section (_File_ > _Show workbook files_).**"
   ]
  },
  {
   "cell_type": "markdown",
   "id": "773a7fa2-1c58-40a5-bc16-8742d7df2cab",
   "metadata": {},
   "source": [
    "## 💪 Challenge\n",
    "Use a tool of your choice to create an interesting visual or dashboard that summarizes your analysis! \n",
    "\n",
    "Things to consider:\n",
    "1. Use this Workspace to prepare your data (optional).\n",
    "2. Stuck on where to start, here's some ideas to get you started: \n",
    "    - Visualize interner usage over time, by country \n",
    "    - How has internet usage changed over time, are there any patterns emerging? \n",
    "    - Consider bringing in other data to supplement your analysis \n",
    "3. Create a screenshot of your main dashboard / visuals, and paste in the designated field. \n",
    "4. Summarize your findings in an executive summary."
   ]
  },
  {
   "cell_type": "markdown",
   "id": "a2a69aa2",
   "metadata": {},
   "source": [
    "### 1. Preparing internet access data\n"
   ]
  },
  {
   "cell_type": "code",
   "execution_count": 3,
   "id": "887004ef-23fb-4d99-b41b-83964e4538d5",
   "metadata": {
    "executionCancelledAt": null,
    "executionTime": 1954,
    "lastExecutedAt": 1733842180868,
    "lastExecutedByKernel": "0637269e-b365-4340-8705-3a62599f9f1f",
    "lastScheduledRunId": null,
    "lastSuccessfullyExecutedCode": "import pandas as pd\ndata = pd.read_csv(\"data/internet_usage.csv\") \ndata.head(10)",
    "outputsMetadata": {
     "0": {
      "height": 313,
      "tableState": {
       "customFilter": {
        "const": {
         "type": "boolean",
         "valid": true,
         "value": true
        },
        "id": "d97acc11-015d-4658-a7a8-c26723ace950",
        "nodeType": "const"
       },
       "quickFilterText": ""
      },
      "type": "dataFrame"
     }
    }
   },
   "outputs": [],
   "source": [
    "import pandas as pd\n",
    "import numpy as np\n",
    "import missingno as msno\n",
    "\n",
    "internet_usage = pd.read_csv(\"data/downloads/internet_usage.csv\") "
   ]
  },
  {
   "cell_type": "code",
   "execution_count": null,
   "id": "9a702fd5",
   "metadata": {},
   "outputs": [],
   "source": [
    "# check for missing values\n",
    "internet_usage.info()"
   ]
  },
  {
   "cell_type": "code",
   "execution_count": null,
   "id": "44a84e4c",
   "metadata": {},
   "outputs": [],
   "source": [
    "# there are no 'null values', so replace the '..' with NaN\n",
    "internet_usage.replace('..', np.nan, inplace=True)"
   ]
  },
  {
   "cell_type": "code",
   "execution_count": null,
   "id": "695a762d",
   "metadata": {},
   "outputs": [],
   "source": [
    "fig = msno.matrix(internet_usage)"
   ]
  },
  {
   "cell_type": "code",
   "execution_count": null,
   "id": "5cd58525",
   "metadata": {},
   "outputs": [],
   "source": [
    "internet_usage.set_index(['Country Name', 'Country Code'], inplace=True)\n",
    "\n",
    "# 2023 is missing a lot of data, so drop this column\n",
    "internet_usage.drop(columns='2023', inplace=True)\n",
    "\n",
    "# drop rows missing data every year\n",
    "all_years: list[str] = [str(year) for year in range(2000, 2023)]\n",
    "internet_usage.dropna(axis=0, how='all', subset=all_years, inplace=True)\n",
    "\n",
    "# visualise results\n",
    "msno.matrix(internet_usage)"
   ]
  },
  {
   "cell_type": "code",
   "execution_count": null,
   "id": "2f531683",
   "metadata": {},
   "outputs": [],
   "source": [
    "# still lots of missing data, so fill from the previous/lead year \n",
    "# a maximum of 2 times\n",
    "# limit area inside to only fill NaNs if surrounded by valid values\n",
    "internet_usage = internet_usage.T\n",
    "internet_usage.ffill(limit=2, inplace=True, limit_area='inside')\n",
    "internet_usage.bfill(limit=2, inplace=True, limit_area='inside')\n",
    "\n",
    "# visualise results\n",
    "msno.matrix(internet_usage.T)"
   ]
  },
  {
   "cell_type": "code",
   "execution_count": null,
   "id": "570d9d75",
   "metadata": {},
   "outputs": [],
   "source": [
    "# view data\n",
    "internet_usage.head()"
   ]
  },
  {
   "cell_type": "code",
   "execution_count": null,
   "id": "abc489c5",
   "metadata": {},
   "outputs": [],
   "source": [
    "# Reverse transposition\n",
    "internet_usage = internet_usage.T\n",
    "\n",
    "# Update data types\n",
    "internet_usage = internet_usage.astype('float')\n",
    "internet_usage.dtypes"
   ]
  },
  {
   "cell_type": "code",
   "execution_count": null,
   "id": "88bfefb3",
   "metadata": {},
   "outputs": [],
   "source": [
    "# Round floating point numbers to 2 d.p.\n",
    "internet_usage = internet_usage.apply(round, args=([2]))\n",
    "\n",
    "# Save to csv\n",
    "internet_usage.to_csv('data/export/internet_usage.csv')\n",
    "\n",
    "# view data\n",
    "internet_usage.head()"
   ]
  },
  {
   "cell_type": "code",
   "execution_count": null,
   "id": "de6914ba",
   "metadata": {},
   "outputs": [],
   "source": [
    "# reshape data in long format for racing chart\n",
    "internet_usage_lf = internet_usage.reset_index().melt(id_vars=['Country Name', 'Country Code'], var_name='Year', value_name='access %')\n",
    "\n",
    "# save to csv\n",
    "internet_usage_lf.to_csv('data/export/internet_usage_long.csv')\n",
    "\n",
    "# view data\n",
    "internet_usage_lf.head()"
   ]
  },
  {
   "cell_type": "markdown",
   "id": "0a04a68a",
   "metadata": {},
   "source": [
    "#### 1.1 Internet usage by gender"
   ]
  },
  {
   "cell_type": "code",
   "execution_count": 6,
   "id": "c8f5ffc3",
   "metadata": {},
   "outputs": [],
   "source": [
    "# Code to process world bank data\n",
    "\n",
    "def load_world_bank_data(file_path: str) -> pd.DataFrame:\n",
    "    \"\"\"Load, clean, rename columns\n",
    "    Params:\n",
    "    file_path: str: Path to file on drive. Must be to .csv file.\n",
    "    \n",
    "    Returns:\n",
    "    df: pandas DataFrame\"\"\"\n",
    "    index_cols: list[str] = ['Series Name', 'Country Name', 'Country Code']\n",
    "\n",
    "    # Load the dataframe\n",
    "    df = pd.read_csv(file_path, index_col=index_cols)\n",
    "    \n",
    "    # Remove unneed column\n",
    "    df.drop('Series Code', axis=1, inplace=True)\n",
    "\n",
    "    # Remove the last two rows\n",
    "    df.drop([-1, -2], inplace=True)\n",
    "\n",
    "    # drop fully missing rows\n",
    "    df.dropna(how='all', inplace=True)\n",
    "\n",
    "    # Rename year columns\n",
    "    df.rename(lambda x: x[:4], axis='columns', inplace=True)\n",
    "    \n",
    "    # Reset the index\n",
    "    df.reset_index(inplace=True)\n",
    "\n",
    "    return df\n",
    "\n",
    "gender_usage = load_world_bank_data('data/downloads/access_genders/internet_access_genders.csv')"
   ]
  },
  {
   "cell_type": "code",
   "execution_count": null,
   "id": "2f5e33a8",
   "metadata": {},
   "outputs": [],
   "source": [
    "# View null value matrix\n",
    "msno.matrix(gender_usage)"
   ]
  },
  {
   "cell_type": "code",
   "execution_count": 9,
   "id": "1930eba1",
   "metadata": {},
   "outputs": [],
   "source": [
    "# function export world bank data\n",
    "def export_world_bank_data(df: pd.DataFrame, file_name) -> None:\n",
    "    \"\"\"Save dateframe as csv in wide and long format\"\"\"\n",
    "    directory = 'data/export/'\n",
    "\n",
    "    # export in wide format (As is)\n",
    "    df.to_csv(f\"data/export/{file_name}.csv\")\n",
    "\n",
    "\n",
    "def transform_to_long(df, id_vars: list[str], var_name: str, value_name: str) -> pd.DataFrame:\n",
    "    df_long = df.reset_index().melt(id_vars=id_vars, var_name=var_name, value_name=value_name)\n",
    "    return df_long\n"
   ]
  },
  {
   "cell_type": "code",
   "execution_count": 10,
   "id": "30c3b7a9",
   "metadata": {},
   "outputs": [],
   "source": [
    "# Export gender usage data\n",
    "gender_usage_long = transform_to_long(gender_usage, id_vars=['Series Name', 'Country Name', 'Country Code'], \\\n",
    "                    var_name='Year', value_name='% of pop')\n",
    "\n",
    "export_world_bank_data(gender_usage, 'gender_usage')\n",
    "export_world_bank_data(gender_usage_long, 'gender_usage_long')"
   ]
  },
  {
   "cell_type": "markdown",
   "id": "7a5f2bc9",
   "metadata": {},
   "source": [
    "### 2. Subscription type"
   ]
  },
  {
   "cell_type": "code",
   "execution_count": 11,
   "id": "245cb1e2",
   "metadata": {},
   "outputs": [],
   "source": [
    "subscriptions = load_world_bank_data('data/downloads/broadband_cellular_subscriptions/broadband_cellular_subscriptions.csv')"
   ]
  },
  {
   "cell_type": "code",
   "execution_count": null,
   "id": "05815e27",
   "metadata": {},
   "outputs": [],
   "source": [
    "# View null value matrix\n",
    "msno.matrix(subscriptions)"
   ]
  },
  {
   "cell_type": "code",
   "execution_count": 12,
   "id": "a96f0c9b",
   "metadata": {},
   "outputs": [],
   "source": [
    "# export\n",
    "subscriptions_long = transform_to_long(subscriptions, id_vars=['Series Name', 'Country Name', 'Country Code'], \\\n",
    "                    var_name='Year', value_name='subs per 100')\n",
    "\n",
    "export_world_bank_data(subscriptions, 'subscriptions')\n",
    "export_world_bank_data(subscriptions_long, 'subscriptions_long')"
   ]
  },
  {
   "cell_type": "markdown",
   "id": "8a0bec55",
   "metadata": {},
   "source": [
    "### 3. Internet servers"
   ]
  },
  {
   "cell_type": "code",
   "execution_count": null,
   "id": "21f63e92",
   "metadata": {},
   "outputs": [],
   "source": [
    "# Load internet server data\n",
    "internet_servers = load_world_bank_data('Data/downloads/secure_internet_servers/secure_internet_servers.csv')\n"
   ]
  },
  {
   "cell_type": "code",
   "execution_count": null,
   "id": "0285c42b",
   "metadata": {},
   "outputs": [],
   "source": [
    "# view null value matrix\n",
    "msno.matrix(internet_servers)"
   ]
  },
  {
   "cell_type": "code",
   "execution_count": 26,
   "id": "3548965d",
   "metadata": {},
   "outputs": [],
   "source": [
    "# 1990 and 2000 completely empty\n",
    "internet_servers.drop(['1990', '2000'], axis=1, inplace=True)"
   ]
  },
  {
   "cell_type": "code",
   "execution_count": 37,
   "id": "3b1f65d2",
   "metadata": {},
   "outputs": [],
   "source": [
    "# export\n",
    "internet_servers_long = transform_to_long(internet_servers, id_vars=['Series Name', 'Country Name', 'Country Code'], \\\n",
    "                    var_name='Year', value_name='no. servers')\n",
    "\n",
    "export_world_bank_data(internet_servers, 'internet_servers')\n",
    "export_world_bank_data(internet_servers_long, 'internet_servers_long')"
   ]
  },
  {
   "cell_type": "markdown",
   "id": "7a016b5a",
   "metadata": {},
   "source": [
    "### 4. 4g Coverage"
   ]
  },
  {
   "cell_type": "markdown",
   "id": "8588418d",
   "metadata": {},
   "source": [
    "Now let's get some data from other sources\n",
    "- Share of people in range of 4G network: Data sources: International Telecommunication Union – processed by Our World in Data"
   ]
  },
  {
   "cell_type": "code",
   "execution_count": null,
   "id": "144f68f4",
   "metadata": {},
   "outputs": [],
   "source": [
    "# Load data from Our World in Data\n",
    "four_g_access = pd.read_csv('data\\downloads\\share-with-4g-mobile-network-coverage\\share-with-4g-mobile-network-coverage.csv')\n",
    "four_g_access.head()"
   ]
  },
  {
   "cell_type": "code",
   "execution_count": 42,
   "id": "d24cdf38",
   "metadata": {},
   "outputs": [],
   "source": [
    "four_g_access.to_csv('4g_access_long.csv')"
   ]
  },
  {
   "cell_type": "markdown",
   "id": "c300a41d",
   "metadata": {},
   "source": [
    "### 5. Other Economic Indicators"
   ]
  },
  {
   "cell_type": "code",
   "execution_count": null,
   "id": "fafd5659",
   "metadata": {},
   "outputs": [],
   "source": [
    "# Load other standard development indicators\n",
    "economic_indicators = load_world_bank_data('data\\downloads\\economic_indicators\\economic_indicators.csv')\n",
    "economic_indicators.head()"
   ]
  },
  {
   "cell_type": "code",
   "execution_count": null,
   "id": "63bb81c5",
   "metadata": {},
   "outputs": [],
   "source": [
    "economic_indicators.tail(2)"
   ]
  },
  {
   "cell_type": "code",
   "execution_count": null,
   "id": "a0e3c499",
   "metadata": {},
   "outputs": [],
   "source": [
    "# view missing data\n",
    "msno.matrix(economic_indicators)"
   ]
  },
  {
   "cell_type": "code",
   "execution_count": null,
   "id": "4062df30",
   "metadata": {},
   "outputs": [],
   "source": [
    "# Import data to Zoho analytics\n",
    "zoho_client = AnalyticsClient(client_id=, client_secret=, refresh_token=)"
   ]
  },
  {
   "cell_type": "code",
   "execution_count": 4,
   "id": "c53d3cba",
   "metadata": {},
   "outputs": [],
   "source": [
    "help(AnalyticsClient)"
   ]
  },
  {
   "cell_type": "markdown",
   "id": "cc6d1c15-8173-496e-bf37-a35c2edbbcab",
   "metadata": {},
   "source": [
    "## ✍️ Judging criteria\n",
    "| CATEGORY | WEIGHTING | DETAILS                                                              |\n",
    "|:---------|:----------|:---------------------------------------------------------------------|\n",
    "| **Visualizations** | 50% | <ul><li>Appropriateness of visualizations used.</li><li>Clarity of insight from visualizations.</li></ul> |\n",
    "| **Summary** | 35%       | <ul><li>Clarity of insights - how clear and well presented the findings are.</li>\n",
    "| **Votes** | 15% | <ul><li>Up voting - most upvoted entries get the most points.</li></ul> |"
   ]
  },
  {
   "cell_type": "markdown",
   "id": "7a340980-0865-437a-bffa-36c7a96bcb7e",
   "metadata": {},
   "source": [
    "## 🧾 Executive summary\n",
    "_In a couple of lines, write your main findings here._"
   ]
  },
  {
   "cell_type": "markdown",
   "id": "4912182d-6842-4798-a59c-6d467ac9480c",
   "metadata": {},
   "source": [
    "## 📷 Visual/Dashboard screenshot\n",
    "_Paste one screenshot of your visual/dashboard here._"
   ]
  },
  {
   "cell_type": "markdown",
   "id": "0eb55790-b5a7-4cbd-a450-1cb88a9ca494",
   "metadata": {},
   "source": [
    "## 🌐 Upload your dashboard (optional)\n",
    "Ideally, paste your link to your online available dashboard here.\n",
    "\n",
    "Otherwise, upload your dashboard file to the _Files_ section (_File_ > _Show workbook files_)."
   ]
  },
  {
   "cell_type": "markdown",
   "id": "f9344753",
   "metadata": {},
   "source": [
    "can I have mermaid in a jupyter notebook?\n",
    "\n",
    "```mermaid\n",
    "erDiagram\n",
    "usage\n",
    "servers\n",
    "subscriptions\n",
    "economic_indicators\n",
    "four_g_coverage\n",
    "```\n",
    "\n"
   ]
  }
 ],
 "metadata": {
  "colab": {
   "name": "Welcome to DataCamp Workspaces.ipynb",
   "provenance": []
  },
  "kernelspec": {
   "display_name": "datacamp",
   "language": "python",
   "name": "python3"
  },
  "language_info": {
   "name": "python"
  }
 },
 "nbformat": 4,
 "nbformat_minor": 5
}
